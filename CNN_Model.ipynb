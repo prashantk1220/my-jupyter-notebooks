{
  "nbformat": 4,
  "nbformat_minor": 0,
  "metadata": {
    "colab": {
      "name": "CNN-Model.ipynb",
      "provenance": [],
      "authorship_tag": "ABX9TyO1Kk93YL3DJ4/UYZf6mXNV"
    },
    "kernelspec": {
      "name": "python3",
      "display_name": "Python 3"
    }
  },
  "cells": [
    {
      "cell_type": "code",
      "metadata": {
        "id": "hoZ3cfRIkOHj"
      },
      "source": [
        "import torch\n",
        "import torch.nn as nn\n",
        "import torch.nn.functional as F\n",
        "import torchvision\n",
        "import torch.utils.data.dataloader as dl\n",
        "import torchvision.transforms as transforms"
      ],
      "execution_count": 139,
      "outputs": []
    },
    {
      "cell_type": "code",
      "metadata": {
        "id": "3vIgnKMhoYEc"
      },
      "source": [
        "class Net(nn.Module):\n",
        "  def __init__(self, num_classes):\n",
        "    super(Net, self).__init__()\n",
        "    # instantiating 2 convos for MNIST data\n",
        "    self.conv1 = nn.Conv2d(in_channels=1, out_channels=5, kernel_size=3, padding=1)\n",
        "    self.conv2 = nn.Conv2d(in_channels=5, out_channels=10, kernel_size=3, padding=1)\n",
        "    self.relu = nn.ReLU()\n",
        "    # instantiating maxpooling \n",
        "    self.pool = nn.MaxPool2d(kernel_size=2, stride=2)\n",
        "    \n",
        "    # Defining fully connected final layer with conv2 having 10 channels for 10 output classes:\n",
        "    # Since the maxpooling(2, 2) will be applied two times, it divides the original heigh * width of MNIST images (28, 28) two times\n",
        "    # So input will be of new dimension * channels \n",
        "    self.fc = nn.Linear(10 * 7 * 7, 10)\n",
        "\n",
        "  def forward(self, x):\n",
        "    # Apply conv followd by relu, then pool\n",
        "    x = self.relu(self.conv1(x))\n",
        "    x = self.pool(x)\n",
        "    x = self.relu(self.conv2(x))\n",
        "    x = self.pool(x)\n",
        "    # Prepare the image for the fully connected layer\n",
        "    x = x.view(-1, 7 * 7 * 10)\n",
        "\n",
        "    # Applying the fully connected layer and return the result\n",
        "    return self.fc(x)"
      ],
      "execution_count": 140,
      "outputs": []
    },
    {
      "cell_type": "code",
      "metadata": {
        "id": "X9KcClJeqZUV"
      },
      "source": [
        "# building the model with loss and optimizers\n",
        "net = Net(10)\n",
        "criterion = nn.CrossEntropyLoss()\n",
        "optimizer = torch.optim.Adam(net.parameters(), lr=3e-4)"
      ],
      "execution_count": 141,
      "outputs": []
    },
    {
      "cell_type": "code",
      "metadata": {
        "id": "YZu2lG90usn6",
        "outputId": "e4ee16dd-fd85-4c97-c262-67564f40eea4",
        "colab": {
          "base_uri": "https://localhost:8080/",
          "height": 34
        }
      },
      "source": [
        "transform = transforms.Compose([transforms.ToTensor(), transforms.Normalize((0.1307), (0.3081))])\n",
        "trainset = torchvision.datasets.MNIST(root='./sample_data/mnist_data', train=True, transform=transform, download=True)\n",
        "testset = torchvision.datasets.MNIST(root='./sample_data/mnist_data', train=False, transform=transform, download=True)\n",
        "trainloader = dl.DataLoader(trainset, shuffle=True, batch_size=5, num_workers=4)\n",
        "testloader = dl.DataLoader(testset, shuffle=False, batch_size=5, num_workers=4)\n",
        "display(trainloader.dataset.data.shape)"
      ],
      "execution_count": 142,
      "outputs": [
        {
          "output_type": "display_data",
          "data": {
            "text/plain": [
              "torch.Size([60000, 28, 28])"
            ]
          },
          "metadata": {
            "tags": []
          }
        }
      ]
    },
    {
      "cell_type": "code",
      "metadata": {
        "id": "P_1E9YOZvLCg",
        "outputId": "a6080e6b-f2fb-49ce-cfc0-24675c93f8cb",
        "colab": {
          "base_uri": "https://localhost:8080/",
          "height": 34
        }
      },
      "source": [
        "# Using single epoch training the CNN Model\n",
        "for i, data in enumerate(trainloader, 0):\n",
        "  inputs, labels = data\n",
        "  # clear the previous gradients\n",
        "  optimizer.zero_grad()\n",
        "  # forward pass:\n",
        "  outputs = net(inputs)\n",
        "\n",
        "  # compute loss:\n",
        "  loss = criterion(outputs, labels)\n",
        "  # calculate gradient\n",
        "  loss.backward()\n",
        "  # update weights:\n",
        "  optimizer.step()\n",
        "\n",
        "print(\"Training finished\")"
      ],
      "execution_count": 143,
      "outputs": [
        {
          "output_type": "stream",
          "text": [
            "Training finished\n"
          ],
          "name": "stdout"
        }
      ]
    },
    {
      "cell_type": "code",
      "metadata": {
        "id": "0bDCu3OlwQ8w"
      },
      "source": [
        "# Evaluating the CNN model:\n",
        "net.eval()\n",
        "predictions = []\n",
        "total, correct = 0, 0\n",
        "for i, data in enumerate(testloader):\n",
        "  inputs, labels = data\n",
        "  outputs = net(inputs)\n",
        "  _, predicted = torch.max(outputs, 1)\n",
        "  predictions.append(outputs)\n",
        "  total += labels.size(0)\n",
        "  correct += (predicted == labels).sum().item()\n"
      ],
      "execution_count": 144,
      "outputs": []
    },
    {
      "cell_type": "code",
      "metadata": {
        "id": "RNAVcYIz5oA6",
        "outputId": "9ca2d2f5-d92c-403c-e6f9-3988bb62ca25",
        "colab": {
          "base_uri": "https://localhost:8080/",
          "height": 34
        }
      },
      "source": [
        "print(\"The accuracy on test set for CNN Model is:\", correct/total * 100)"
      ],
      "execution_count": 145,
      "outputs": [
        {
          "output_type": "stream",
          "text": [
            "The accuracy on test set for CNN Model is: 97.49\n"
          ],
          "name": "stdout"
        }
      ]
    }
  ]
}