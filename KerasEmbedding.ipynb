{
  "nbformat": 4,
  "nbformat_minor": 0,
  "metadata": {
    "colab": {
      "name": "KerasEmbedding.ipynb",
      "provenance": [],
      "authorship_tag": "ABX9TyPK8R+VSNCDSubpe33B0vfg",
      "include_colab_link": true
    },
    "kernelspec": {
      "name": "python3",
      "display_name": "Python 3"
    }
  },
  "cells": [
    {
      "cell_type": "markdown",
      "metadata": {
        "id": "view-in-github",
        "colab_type": "text"
      },
      "source": [
        "<a href=\"https://colab.research.google.com/github/prashantk1220/my-jupyter-notebooks/blob/master/KerasEmbedding.ipynb\" target=\"_parent\"><img src=\"https://colab.research.google.com/assets/colab-badge.svg\" alt=\"Open In Colab\"/></a>"
      ]
    },
    {
      "cell_type": "code",
      "metadata": {
        "id": "L16G2haZlw4c"
      },
      "source": [
        "from tensorflow.keras.layers import Input, Embedding, Flatten\n",
        "from tensorflow.keras.models import Model\n",
        "from keras.layers import Subtract\n",
        "import pandas as pd\n",
        "import numpy as np"
      ],
      "execution_count": null,
      "outputs": []
    },
    {
      "cell_type": "code",
      "metadata": {
        "id": "ZOK2egbfotCS",
        "outputId": "7eedad1c-68b9-4f4f-f788-2efc36ac2d88",
        "colab": {
          "base_uri": "https://localhost:8080/",
          "height": 204
        }
      },
      "source": [
        "games_df = pd.read_csv('/content/games_data/games_season.csv')\n",
        "games_df.head()"
      ],
      "execution_count": null,
      "outputs": [
        {
          "output_type": "execute_result",
          "data": {
            "text/html": [
              "<div>\n",
              "<style scoped>\n",
              "    .dataframe tbody tr th:only-of-type {\n",
              "        vertical-align: middle;\n",
              "    }\n",
              "\n",
              "    .dataframe tbody tr th {\n",
              "        vertical-align: top;\n",
              "    }\n",
              "\n",
              "    .dataframe thead th {\n",
              "        text-align: right;\n",
              "    }\n",
              "</style>\n",
              "<table border=\"1\" class=\"dataframe\">\n",
              "  <thead>\n",
              "    <tr style=\"text-align: right;\">\n",
              "      <th></th>\n",
              "      <th>season</th>\n",
              "      <th>team_1</th>\n",
              "      <th>team_2</th>\n",
              "      <th>home</th>\n",
              "      <th>score_diff</th>\n",
              "      <th>score_1</th>\n",
              "      <th>score_2</th>\n",
              "      <th>won</th>\n",
              "    </tr>\n",
              "  </thead>\n",
              "  <tbody>\n",
              "    <tr>\n",
              "      <th>0</th>\n",
              "      <td>1985</td>\n",
              "      <td>3745</td>\n",
              "      <td>6664</td>\n",
              "      <td>0</td>\n",
              "      <td>17</td>\n",
              "      <td>81</td>\n",
              "      <td>64</td>\n",
              "      <td>1</td>\n",
              "    </tr>\n",
              "    <tr>\n",
              "      <th>1</th>\n",
              "      <td>1985</td>\n",
              "      <td>126</td>\n",
              "      <td>7493</td>\n",
              "      <td>1</td>\n",
              "      <td>7</td>\n",
              "      <td>77</td>\n",
              "      <td>70</td>\n",
              "      <td>1</td>\n",
              "    </tr>\n",
              "    <tr>\n",
              "      <th>2</th>\n",
              "      <td>1985</td>\n",
              "      <td>288</td>\n",
              "      <td>3593</td>\n",
              "      <td>1</td>\n",
              "      <td>7</td>\n",
              "      <td>63</td>\n",
              "      <td>56</td>\n",
              "      <td>1</td>\n",
              "    </tr>\n",
              "    <tr>\n",
              "      <th>3</th>\n",
              "      <td>1985</td>\n",
              "      <td>1846</td>\n",
              "      <td>9881</td>\n",
              "      <td>1</td>\n",
              "      <td>16</td>\n",
              "      <td>70</td>\n",
              "      <td>54</td>\n",
              "      <td>1</td>\n",
              "    </tr>\n",
              "    <tr>\n",
              "      <th>4</th>\n",
              "      <td>1985</td>\n",
              "      <td>2675</td>\n",
              "      <td>10298</td>\n",
              "      <td>1</td>\n",
              "      <td>12</td>\n",
              "      <td>86</td>\n",
              "      <td>74</td>\n",
              "      <td>1</td>\n",
              "    </tr>\n",
              "  </tbody>\n",
              "</table>\n",
              "</div>"
            ],
            "text/plain": [
              "   season  team_1  team_2  home  score_diff  score_1  score_2  won\n",
              "0    1985    3745    6664     0          17       81       64    1\n",
              "1    1985     126    7493     1           7       77       70    1\n",
              "2    1985     288    3593     1           7       63       56    1\n",
              "3    1985    1846    9881     1          16       70       54    1\n",
              "4    1985    2675   10298     1          12       86       74    1"
            ]
          },
          "metadata": {
            "tags": []
          },
          "execution_count": 2
        }
      ]
    },
    {
      "cell_type": "code",
      "metadata": {
        "id": "ftiWCfj1pr6_"
      },
      "source": [
        "n_teams = np.unique(games_df[['team_1', 'team_2']]).shape[0]\n",
        "team_lookup = Embedding(input_dim=n_teams, output_dim=1, input_length=1, name='Team-Strength')"
      ],
      "execution_count": null,
      "outputs": []
    },
    {
      "cell_type": "code",
      "metadata": {
        "id": "DRtvJvGpqO85"
      },
      "source": [
        "teamid_in = Input(shape=(1,))\n",
        "strength_lookup = team_lookup(teamid_in)\n",
        "strength_lookup_flat = Flatten()(strength_lookup)\n",
        "team_strength_model = Model(teamid_in, strength_lookup_flat, name='Team-Strength-Model')"
      ],
      "execution_count": null,
      "outputs": []
    },
    {
      "cell_type": "markdown",
      "metadata": {
        "id": "KZNyVFWgv_RP"
      },
      "source": [
        "---\n",
        "\n",
        "\n",
        "\n",
        "\n",
        "Creating 2 input layers for for Team 1 and Team 2 and storing their strength values."
      ]
    },
    {
      "cell_type": "code",
      "metadata": {
        "id": "ytqosRJkwIfB"
      },
      "source": [
        "team_in_1 = Input(shape=(1,), name=\"Team-1-In\")\n",
        "team_in_2 = Input(shape=(1,), name=\"Team-2-In\")"
      ],
      "execution_count": null,
      "outputs": []
    },
    {
      "cell_type": "code",
      "metadata": {
        "id": "BCluHmMr3PL6"
      },
      "source": [
        "team_1_strength = team_strength_model(team_in_1)\n",
        "team_2_strength = team_strength_model(team_in_2)"
      ],
      "execution_count": null,
      "outputs": []
    },
    {
      "cell_type": "code",
      "metadata": {
        "id": "E7Ukfkbn4Zif"
      },
      "source": [
        "score_diff = Subtract()([team_1_strength, team_2_strength])"
      ],
      "execution_count": null,
      "outputs": []
    },
    {
      "cell_type": "code",
      "metadata": {
        "id": "u-ZlOe4r5GzR"
      },
      "source": [
        "model = Model([team_in_1, team_in_2], score_diff)\n",
        "model.compile(optimizer='adam', loss='mae')"
      ],
      "execution_count": null,
      "outputs": []
    },
    {
      "cell_type": "markdown",
      "metadata": {
        "id": "ZP_sMWv4677l"
      },
      "source": [
        "Fit the model on the two teams as input and the score diff:"
      ]
    },
    {
      "cell_type": "code",
      "metadata": {
        "id": "gFIeUsx_6BIZ",
        "outputId": "676cd3dd-f5db-4710-b783-848efda50d3c",
        "colab": {
          "base_uri": "https://localhost:8080/",
          "height": 51
        }
      },
      "source": [
        "input_1 = games_df['team_1']\n",
        "input_2 = games_df['team_2']\n",
        "target_out = games_df['score_diff']\n",
        "model.fit([input_1, input_2], target_out, batch_size=2048, epochs=1, validation_split=0.1, verbose=True)"
      ],
      "execution_count": null,
      "outputs": [
        {
          "output_type": "stream",
          "text": [
            "138/138 [==============================] - 0s 3ms/step - loss: 12.0736 - val_loss: 11.8040\n"
          ],
          "name": "stdout"
        },
        {
          "output_type": "execute_result",
          "data": {
            "text/plain": [
              "<tensorflow.python.keras.callbacks.History at 0x7f3c313820f0>"
            ]
          },
          "metadata": {
            "tags": []
          },
          "execution_count": 22
        }
      ]
    },
    {
      "cell_type": "markdown",
      "metadata": {
        "id": "bY7Jrlm79JgT"
      },
      "source": [
        "---\n",
        "Test it on different dataset:\n",
        "\n"
      ]
    },
    {
      "cell_type": "code",
      "metadata": {
        "id": "O6DHOecB7k5m",
        "outputId": "e8564e99-d13e-439e-9c83-50085d52f044",
        "colab": {
          "base_uri": "https://localhost:8080/",
          "height": 34
        }
      },
      "source": [
        "games_df_2 = pd.read_csv('/content/games_data/games_tourney.csv')\n",
        "test_team_1 = games_df_2['team_1']\n",
        "test_team_2 = games_df_2['team_2']\n",
        "scores = model.evaluate([test_team_1, test_team_2], games_df_2['score_diff'], verbose=True)"
      ],
      "execution_count": null,
      "outputs": [
        {
          "output_type": "stream",
          "text": [
            "133/133 [==============================] - 0s 824us/step - loss: 11.6665\n"
          ],
          "name": "stdout"
        }
      ]
    },
    {
      "cell_type": "code",
      "metadata": {
        "id": "Ri9Oe4VR-zgn"
      },
      "source": [
        ""
      ],
      "execution_count": null,
      "outputs": []
    }
  ]
}