{
  "nbformat": 4,
  "nbformat_minor": 0,
  "metadata": {
    "colab": {
      "name": "TorchNet.ipynb",
      "provenance": [],
      "authorship_tag": "ABX9TyPOV7wCz8+w7Bg8aX9wMAGf",
      "include_colab_link": true
    },
    "kernelspec": {
      "name": "python3",
      "display_name": "Python 3"
    }
  },
  "cells": [
    {
      "cell_type": "markdown",
      "metadata": {
        "id": "view-in-github",
        "colab_type": "text"
      },
      "source": [
        "<a href=\"https://colab.research.google.com/github/prashantk1220/my-jupyter-notebooks/blob/master/TorchNet.ipynb\" target=\"_parent\"><img src=\"https://colab.research.google.com/assets/colab-badge.svg\" alt=\"Open In Colab\"/></a>"
      ]
    },
    {
      "cell_type": "code",
      "metadata": {
        "id": "Gfa3XLYOL2DX"
      },
      "source": [
        "import torch\n",
        "import torch.nn as nn\n",
        "import torchvision\n",
        "import torch.utils.data.dataloader as dl\n",
        "import torchvision.transforms as transforms\n",
        "import torch.nn.functional as F"
      ],
      "execution_count": 19,
      "outputs": []
    },
    {
      "cell_type": "code",
      "metadata": {
        "id": "R7ABoj02MlIi"
      },
      "source": [
        "class Net(nn.Module):\n",
        "  def __init__(self):\n",
        "    super(Net, self).__init__()\n",
        "    self.fc1 = nn.Linear(784, 200)\n",
        "    self.fc2 = nn.Linear(200 , 10)\n",
        "\n",
        "  def forward(self, x):\n",
        "    x = F.relu(self.fc1(x))\n",
        "    x = self.fc2(x)\n",
        "    return x"
      ],
      "execution_count": 20,
      "outputs": []
    },
    {
      "cell_type": "code",
      "metadata": {
        "id": "6mf3eN0yP4qF"
      },
      "source": [
        "model = Net()\n",
        "optimizer = torch.optim.Adam(model.parameters(), lr=3e-4)\n",
        "criterion = nn.CrossEntropyLoss()"
      ],
      "execution_count": 21,
      "outputs": []
    },
    {
      "cell_type": "code",
      "metadata": {
        "id": "gjqbLl7I_voM",
        "outputId": "d068f7c5-0222-4e6e-c973-9d7085bc0a3f",
        "colab": {
          "base_uri": "https://localhost:8080/",
          "height": 34
        }
      },
      "source": [
        "transform = transforms.Compose([transforms.ToTensor(), transforms.Normalize((0.1307), (0.3081))])\n",
        "trainset = torchvision.datasets.MNIST(root='./sample_data/mnist_data', train=True, transform=transform, download=True)\n",
        "testset = torchvision.datasets.MNIST(root='./sample_data/mnist_data', train=False, transform=transform, download=True)\n",
        "trainloader = dl.DataLoader(trainset, batch_size=32, shuffle=True, num_workers=4)\n",
        "testloader = dl.DataLoader(testset, batch_size=32, shuffle=False, num_workers=4)\n",
        "display(testloader.dataset.data.shape)"
      ],
      "execution_count": 22,
      "outputs": [
        {
          "output_type": "display_data",
          "data": {
            "text/plain": [
              "torch.Size([10000, 28, 28])"
            ]
          },
          "metadata": {
            "tags": []
          }
        }
      ]
    },
    {
      "cell_type": "code",
      "metadata": {
        "id": "qW_lfKXAINeA"
      },
      "source": [
        "# training the model created in 3rd cell using trainset from trainloader:\n",
        "for batch_idx, data_target in enumerate(trainloader):\n",
        "  data = data_target[0]\n",
        "  target = data_target[1]\n",
        "  data = data.view(-1, 28 * 28)\n",
        "  optimizer.zero_grad()\n",
        "  \n",
        "  #forward pass:\n",
        "  output = model(data)\n",
        "\n",
        "  # Compute the loss\n",
        "  loss = criterion(output, target)\n",
        "  # gradient fo loss function\n",
        "  loss.backward()\n",
        "  # change the weights:\n",
        "  optimizer.step()"
      ],
      "execution_count": 24,
      "outputs": []
    },
    {
      "cell_type": "code",
      "metadata": {
        "id": "P3cUL1ETKCIY",
        "outputId": "c00dabec-b79e-4c2b-ab40-fe8db3147adc",
        "colab": {
          "base_uri": "https://localhost:8080/",
          "height": 34
        }
      },
      "source": [
        "# using the model to predict on test-set\n",
        "model.eval()\n",
        "predictions = []\n",
        "total, correct = 0, 0\n",
        "for i, data in enumerate(testloader, 0):\n",
        "  inputs, labels = data\n",
        "  #put each image into vector/tensor\n",
        "  inputs = inputs.view(-1, 28 * 28)\n",
        "\n",
        "  #forward pass in eval mode to get predictions\n",
        "  output = model(inputs)\n",
        "  _, outputs= torch.max(output.data, 1)\n",
        "  total += labels.size(0)\n",
        "  correct += (outputs == labels).sum().item()\n",
        "\n",
        "print('The testing set accuracy of the network is: %d %%' % (100 * correct / total))\n"
      ],
      "execution_count": 26,
      "outputs": [
        {
          "output_type": "stream",
          "text": [
            "The testing set accuracy of the network is: 95 %\n"
          ],
          "name": "stdout"
        }
      ]
    },
    {
      "cell_type": "code",
      "metadata": {
        "id": "ZePgVN44O64q"
      },
      "source": [
        ""
      ],
      "execution_count": null,
      "outputs": []
    }
  ]
}